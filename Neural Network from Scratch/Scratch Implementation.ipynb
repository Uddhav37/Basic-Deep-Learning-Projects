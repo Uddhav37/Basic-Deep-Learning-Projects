{
 "cells": [
  {
   "cell_type": "code",
   "execution_count": 139,
   "id": "65c96893-0761-4253-b0ec-84fcb9455038",
   "metadata": {},
   "outputs": [],
   "source": [
    "import numpy as np\n",
    "import h5py \n",
    "import matplotlib.pyplot as plt\n",
    "import copy\n",
    "%matplotlib inline\n",
    "plt.rcParams['figure.figsize']=(3, 3)\n",
    "plt.rcParams['image.interpolation']= 'nearest'\n",
    "plt.rcParams['image.cmap']= 'gray'\n",
    "np.random.seed(1)"
   ]
  },
  {
   "cell_type": "markdown",
   "id": "4f1e0b35-fedc-4445-8b93-291615b7a464",
   "metadata": {},
   "source": [
    "#### LOADING THE DATA"
   ]
  },
  {
   "cell_type": "code",
   "execution_count": 23,
   "id": "b4693f19-417f-49a5-aa5a-82bc407afcab",
   "metadata": {},
   "outputs": [],
   "source": [
    "def load_data():\n",
    "    train_dataset=h5py.File('scratch_implementation_data/train_catvnoncat.h5', 'r')\n",
    "\n",
    "    train_set_x_orig=np.array(train_dataset[\"train_set_x\"][:])\n",
    "    train_set_y_orig=np.array(train_dataset[\"train_set_y\"][:])\n",
    "\n",
    "    test_dataset=h5py.File('scratch_implementation_data/test_catvnoncat.h5', 'r')\n",
    "    test_set_x_orig=np.array(test_dataset['test_set_x'][:])\n",
    "    test_set_y_orig=np.array(test_dataset['test_set_y'][:])\n",
    "    \n",
    "    classes=np.array(test_dataset[\"list_classes\"][:])\n",
    "    \n",
    "    return train_set_x_orig, train_set_y_orig, test_set_x_orig, test_set_y_orig, classes"
   ]
  },
  {
   "cell_type": "code",
   "execution_count": 24,
   "id": "e951ba08-3a4c-439a-b04b-1386b2fdb535",
   "metadata": {},
   "outputs": [
    {
     "name": "stdout",
     "output_type": "stream",
     "text": [
      "Train x: (209, 64, 64, 3)\n",
      "Train y: (209,)\n",
      "Test x: (50, 64, 64, 3)\n",
      "Test y: (50,)\n"
     ]
    }
   ],
   "source": [
    "train_x_orig, train_y, test_x_orig, test_y, classes= load_data()\n",
    "#the shape of different data arrays are:\n",
    "print(\"Train x: \" + str(train_x_orig.shape) + \"\\nTrain y: \" + str(train_y.shape))\n",
    "print(\"Test x: \" + str(test_x_orig.shape) + \"\\nTest y: \" + str(test_y.shape))"
   ]
  },
  {
   "cell_type": "code",
   "execution_count": 25,
   "id": "47870b8e-b205-4f2c-b2cc-e86431387fbe",
   "metadata": {},
   "outputs": [
    {
     "data": {
      "image/png": "[encoded data removed]",
      "text/plain": [
       "<Figure size 300x300 with 1 Axes>"
      ]
     },
     "metadata": {},
     "output_type": "display_data"
    },
    {
     "name": "stdout",
     "output_type": "stream",
     "text": [
      "y = 1\n",
      "This is a cat image\n"
     ]
    }
   ],
   "source": [
    "#viewing an image from the training set\n",
    "#you can change the value of index to view different images\n",
    "index=56\n",
    "plt.imshow(train_x_orig[index])\n",
    "plt.show()\n",
    "print(\"y = \"+str(train_y[index]))\n",
    "print(\"This is a\", 'cat' if train_y[index]==1 else 'non-cat', \"image\")"
   ]
  },
  {
   "cell_type": "markdown",
   "id": "7e44a34c-1f97-46c8-8ce1-a9203148cf68",
   "metadata": {},
   "source": [
    "### DATA PREPROCESSING"
   ]
  },
  {
   "cell_type": "code",
   "execution_count": 26,
   "id": "e0b3a6c4-2b26-453e-9084-778aa2977829",
   "metadata": {},
   "outputs": [
    {
     "name": "stdout",
     "output_type": "stream",
     "text": [
      "train_x shape:  (12288, 209)\n",
      "test_x shape:  (12288, 50)\n"
     ]
    }
   ],
   "source": [
    "#reshape train_x, test_x to (64*64*3, 209)\n",
    "train_x=train_x_orig.reshape(train_x_orig.shape[0], -1).T  \n",
    "test_x=test_x_orig.reshape(test_x_orig.shape[0], -1).T\n",
    "train_x=train_x.astype(np.float32)\n",
    "test_x=test_x.astype(np.float32)\n",
    "#scaling of pixel values\n",
    "train_x/=255\n",
    "test_x/=255.\n",
    "\n",
    "print(\"train_x shape: \", train_x.shape)\n",
    "print(\"test_x shape: \", test_x.shape)"
   ]
  },
  {
   "cell_type": "code",
   "execution_count": 29,
   "id": "b70dd892-5886-47cc-8fcd-dcd171c3192a",
   "metadata": {},
   "outputs": [],
   "source": [
    "train_y = train_y.reshape(1, 209)\n",
    "test_y = test_y.reshape(1, 50)"
   ]
  },
  {
   "cell_type": "markdown",
   "id": "bcaf5531-aedb-4337-bc23-6106034769d0",
   "metadata": {},
   "source": [
    "### HELPER FUNCTIONS"
   ]
  },
  {
   "cell_type": "code",
   "execution_count": 7,
   "id": "8b0f3ae3-6e31-4322-b165-35b97af66385",
   "metadata": {},
   "outputs": [],
   "source": [
    "def sigmoid(z):\n",
    "    A = 1/(1+np.exp(-z))\n",
    "    cache = z  #storing the value of z for use in backward propagation\n",
    "    return A, cache\n",
    "\n",
    "def relu(z):\n",
    "    A = np.maximum(0, z)\n",
    "    cache = z\n",
    "    return A, cache\n",
    "\n",
    "def sigmoid_backward(dA, cache):\n",
    "    z = cache\n",
    "    s = 1/(1+np.exp(-z))\n",
    "    return dA*s*(1-s)  #chain rule of differentiation\n",
    "\n",
    "def relu_backward(dA, cache):\n",
    "    '''\n",
    "    Argument:\n",
    "        dA -- the backward value of activation\n",
    "        cache -- the  \n",
    "    '''\n",
    "    z = cache\n",
    "    dZ = np.array(dA, copy=True)\n",
    "    dZ[z<=0] = 0\n",
    "    return dZ"
   ]
  },
  {
   "cell_type": "code",
   "execution_count": 38,
   "id": "393d5bba-8957-4b3e-b80b-7c57a57d7dc8",
   "metadata": {},
   "outputs": [],
   "source": [
    "def initialize_parameters(layer_dims):\n",
    "    \"\"\"\n",
    "    Arguments: \n",
    "        layer_dims -- python dictionary containing the dimensions of each layer in our network\n",
    "\n",
    "    Returns: \n",
    "        parameters -- python dictionary containing parameters \"W1\", \"b1\"...\"WL, \"bL\"\n",
    "        \"\"\"\n",
    "    np.random.seed(1)\n",
    "    parameters={}\n",
    "\n",
    "    L=len(layer_dims)\n",
    "    for l in range(1, L):\n",
    "        parameters[\"W\" + str(l)]= np.random.randn(layer_dims[l], layer_dims[l-1])/np.sqrt(layer_dims[l-1])\n",
    "        parameters[\"b\" + str(l)]=np.zeros((layer_dims[l], 1))\n",
    "        \n",
    "    return parameters"
   ]
  },
  {
   "cell_type": "code",
   "execution_count": 19,
   "id": "639bcc57-e32f-4a01-a1b2-34bdccf8864a",
   "metadata": {},
   "outputs": [],
   "source": [
    "par_temp = initialize_parameters([12, 24, 48, 96, 10, 1])"
   ]
  },
  {
   "cell_type": "code",
   "execution_count": 20,
   "id": "5de9d833-0bdb-42eb-b0ea-ffc972745202",
   "metadata": {},
   "outputs": [
    {
     "data": {
      "text/plain": [
       "10"
      ]
     },
     "execution_count": 20,
     "metadata": {},
     "output_type": "execute_result"
    }
   ],
   "source": [
    "len(par_temp)"
   ]
  },
  {
   "cell_type": "code",
   "execution_count": 21,
   "id": "c81a2c60-7abf-498a-a9a2-b5f17ec4618b",
   "metadata": {},
   "outputs": [],
   "source": [
    "x_temp = np.random.randn(12, 50)"
   ]
  },
  {
   "cell_type": "code",
   "execution_count": 22,
   "id": "6d54d105-9c71-45f9-8693-92965fcdec85",
   "metadata": {},
   "outputs": [],
   "source": [
    "al_temp, caches_temp = L_model_forward(x_temp, par_temp)"
   ]
  },
  {
   "cell_type": "code",
   "execution_count": 23,
   "id": "1de9061d-e101-4e88-a56b-a747b64d6d4e",
   "metadata": {},
   "outputs": [
    {
     "data": {
      "text/plain": [
       "(1, 50)"
      ]
     },
     "execution_count": 23,
     "metadata": {},
     "output_type": "execute_result"
    }
   ],
   "source": [
    "al_temp.shape"
   ]
  },
  {
   "cell_type": "markdown",
   "id": "5eeccb9d-7a72-409f-a0b0-748224bc64cd",
   "metadata": {},
   "source": [
    "### FORWARD PROPAGATION"
   ]
  },
  {
   "cell_type": "code",
   "execution_count": 9,
   "id": "c1b98ddb-0ccc-4e61-96e8-9496a30243a1",
   "metadata": {},
   "outputs": [],
   "source": [
    "def linear_forward(A, W, b):\n",
    "    Z=np.dot(W, A) + b\n",
    "    cache= (A, W, b)\n",
    "    return Z, cache"
   ]
  },
  {
   "cell_type": "code",
   "execution_count": 10,
   "id": "f4c471ea-9046-4319-9267-0ee96e1348cc",
   "metadata": {},
   "outputs": [],
   "source": [
    "def linear_activation_forward(A_prev, W, b, activation):\n",
    "    if activation == 'sigmoid':\n",
    "        Z, linear_cache = linear_forward(A_prev, W, b)\n",
    "        A, activation_cache = sigmoid(Z)   \n",
    "\n",
    "    elif activation == 'relu':\n",
    "        Z, linear_cache = linear_forward(A_prev, W, b)\n",
    "        A, activation_cache = relu(Z)\n",
    "\n",
    "    cache= (linear_cache, activation_cache)\n",
    "    return A, cache"
   ]
  },
  {
   "cell_type": "code",
   "execution_count": 11,
   "id": "37535a99-287d-4376-98de-060878594631",
   "metadata": {},
   "outputs": [],
   "source": [
    "#function to implement for all layers\n",
    "def L_model_forward(X, parameters):\n",
    "\n",
    "    caches = []\n",
    "    A = X\n",
    "    L = len(parameters)//2\n",
    "\n",
    "    for l in range(1, L):\n",
    "        A_prev = A\n",
    "        A, cache = linear_activation_forward(A_prev, parameters[\"W\"+str(l)], parameters[\"b\"+str(l)], 'relu')\n",
    "        caches.append(cache)\n",
    "\n",
    "    AL, cache = linear_activation_forward(A, parameters[\"W\"+str(L)], parameters[\"b\"+str(L)], 'sigmoid')\n",
    "    caches.append(cache)\n",
    "\n",
    "    return AL, caches"
   ]
  },
  {
   "cell_type": "markdown",
   "id": "880193d1-bb41-4ee9-ac42-dcbfeed64ec0",
   "metadata": {},
   "source": [
    "### COMPUTE COST"
   ]
  },
  {
   "cell_type": "code",
   "execution_count": 41,
   "id": "94fcfd71-0e74-4177-8423-699cefc600bb",
   "metadata": {},
   "outputs": [],
   "source": [
    "def compute_cost(AL, Y):\n",
    "    '''\n",
    "    Arguments:\n",
    "        AL -- value of final activations\n",
    "        Y -- true value of activations\n",
    "    Returns: \n",
    "        cost -- the squeezed value of cost'''\n",
    "    m=Y.shape[1]\n",
    "    \n",
    "    #log loss function\n",
    "    cost = (1./m) * (-np.dot(Y,np.log(AL).T) - np.dot(1-Y, np.log(1-AL).T))\n",
    "    cost=np.squeeze(cost) #to reduce extra array dimensions\n",
    "    return cost"
   ]
  },
  {
   "cell_type": "markdown",
   "id": "0927b5fd-2a88-414f-ab9c-8dae3391e354",
   "metadata": {},
   "source": [
    "### BACKWARD PROPAGATION"
   ]
  },
  {
   "cell_type": "code",
   "execution_count": 42,
   "id": "40227baa-f1a2-476f-87e6-37d4592bea83",
   "metadata": {},
   "outputs": [],
   "source": [
    "#calculate dA_prev, dW, db from dZ\n",
    "def linear_backward(dZ, linear_cache):\n",
    "    A_prev, W, b = linear_cache\n",
    "    m = A_prev.shape[1]\n",
    "\n",
    "    dA_prev = np.dot(W.T, dZ)\n",
    "    dW = (1./m) * np.dot(dZ, A_prev.T)\n",
    "    db = (1./m) * np.sum(dZ, axis=1, keepdims=True)\n",
    "\n",
    "    return dA_prev, dW, db"
   ]
  },
  {
   "cell_type": "code",
   "execution_count": 43,
   "id": "5a2eec70-b2be-4e30-beb2-44366108ae21",
   "metadata": {},
   "outputs": [],
   "source": [
    "#calculate dA_prev, dW, db from dA\n",
    "def linear_activation_backward(dA, cache, activation):\n",
    "    '''\n",
    "    Arguments:\n",
    "        dA -- Derivate of output of a layer\n",
    "        cache -- values of cache used for each layer in foward propagation\n",
    "        activation -- the activation function used in layer\n",
    "        \n",
    "    Returns:\n",
    "        dA_prev -- gradient of activations for previous layer\n",
    "        dW, db -- update parameters\n",
    "    '''\n",
    "    linear_cache, activation_cache = cache\n",
    "    \n",
    "    if activation == 'relu':\n",
    "        dZ = relu_backward(dA, activation_cache)\n",
    "        dA_prev, dW, db = linear_backward(dZ, linear_cache)\n",
    "\n",
    "    elif activation == 'sigmoid':\n",
    "        dZ = sigmoid_backward(dA, activation_cache)\n",
    "        dA_prev, dW, db = linear_backward(dZ, linear_cache)\n",
    "\n",
    "    else:\n",
    "        print(\"Error in function linear_activation_backward\")\n",
    "\n",
    "    return dA_prev, dW, db"
   ]
  },
  {
   "cell_type": "code",
   "execution_count": 44,
   "id": "212c2fa3-5180-4496-962f-f2165a84ee4d",
   "metadata": {},
   "outputs": [],
   "source": [
    "def L_model_backward(AL, Y, caches):\n",
    "    grads = {}\n",
    "    L = len(caches)\n",
    "    m = AL.shape[1]\n",
    "    Y = Y.reshape(AL.shape)\n",
    "    \n",
    "    #initialize the backpropagation\n",
    "    dAL= -np.divide(Y, AL) + np.divide(1-Y, 1-AL)\n",
    "    dA_prev_temp, dW_temp, db_temp = linear_activation_backward(dAL, caches[L-1], 'sigmoid')\n",
    "    grads[\"dA\"+str(L-1)] = dA_prev_temp\n",
    "    grads[\"dW\"+str(L)] = dW_temp\n",
    "    grads[\"db\"+str(L)] = db_temp\n",
    "\n",
    "    #loop from L-2 to 0\n",
    "    for l in reversed(range(L-1)):\n",
    "        current_cache = caches[l]\n",
    "        dA_prev_temp, dW_temp, db_temp = linear_activation_backward(grads[\"dA\"+str(l+1)], current_cache, 'relu')\n",
    "        grads['dA'+str(l)] = dA_prev_temp\n",
    "        grads[\"dW\"+str(l+1)] = dW_temp\n",
    "        grads[\"db\"+str(l+1)] = db_temp\n",
    "\n",
    "    return grads"
   ]
  },
  {
   "cell_type": "code",
   "execution_count": 45,
   "id": "744956c1-cec8-4e87-8ba0-039dec7f4321",
   "metadata": {},
   "outputs": [],
   "source": [
    "def update_parameters(parameters, grads, learning_rate):\n",
    "    parameters = copy.deepcopy(parameters)\n",
    "    L=len(parameters)//2\n",
    "\n",
    "    for l in range(L):\n",
    "        parameters[\"W\"+str(l+1)] -= (learning_rate * grads[\"dW\" + str(l+1)])\n",
    "        parameters[\"b\"+str(l+1)] -= (learning_rate * grads[\"db\" + str(l+1)])\n",
    "\n",
    "    return parameters"
   ]
  },
  {
   "cell_type": "code",
   "execution_count": 95,
   "id": "31c70f83-e764-4ec4-a839-e3187d355917",
   "metadata": {},
   "outputs": [],
   "source": [
    "def predict(X, parameters):\n",
    "    m = X.shape[1]\n",
    "    n = len(parameters)//2\n",
    "    p = np.zeros((1, m))\n",
    "    probas, caches = L_model_forward(X, parameters)\n",
    "\n",
    "    for i in range(0, probas.shape[1]):\n",
    "        if probas[0, i] > 0.5:\n",
    "            p[0, i] = 1\n",
    "        else:\n",
    "            p[0, i] = 0\n",
    "            \n",
    "    return p"
   ]
  },
  {
   "cell_type": "code",
   "execution_count": 125,
   "id": "ebbed930-94ad-4b60-a249-9b36f8de1a54",
   "metadata": {},
   "outputs": [],
   "source": [
    "def train(train_x, train_y, layer_dims, num_iterations=600, learning_rate=0.0075):\n",
    "    np.random.seed(1)\n",
    "    costs = []\n",
    "    parameters = initialize_parameters(layer_dims)\n",
    "\n",
    "    for i in range(num_iterations+1):\n",
    "         AL, caches = L_model_forward(train_x, parameters)\n",
    "         cost = compute_cost(AL, train_y)\n",
    "         grads = L_model_backward(AL, train_y, caches)\n",
    "         parameters = update_parameters(parameters, grads, learning_rate)\n",
    "\n",
    "         if i%100==0:\n",
    "            print(f\"Cost at iteration {i} is: {cost:.8f}\")\n",
    "            costs.append(cost)\n",
    "    return parameters, costs"
   ]
  },
  {
   "cell_type": "code",
   "execution_count": 126,
   "id": "ae0e01ba-36f6-4daf-aea0-8ddda0361d58",
   "metadata": {},
   "outputs": [
    {
     "name": "stdout",
     "output_type": "stream",
     "text": [
      "Cost at iteration 0 is: 0.70318526\n",
      "Cost at iteration 100 is: 0.58052855\n",
      "Cost at iteration 200 is: 0.49688433\n",
      "Cost at iteration 300 is: 0.42251451\n",
      "Cost at iteration 400 is: 0.34760884\n",
      "Cost at iteration 500 is: 0.26981388\n",
      "Cost at iteration 600 is: 0.16450637\n"
     ]
    }
   ],
   "source": [
    "layer_dims = [12288, 512, 128, 32, 8, 1]\n",
    "parameters, costs = train(train_x, train_y, layer_dims)"
   ]
  },
  {
   "cell_type": "code",
   "execution_count": 138,
   "id": "994c449e-b896-4bdd-9548-821445d602f3",
   "metadata": {},
   "outputs": [
    {
     "data": {
      "image/png": "[encoded data removed]",
      "text/plain": [
       "<Figure size 300x300 with 1 Axes>"
      ]
     },
     "metadata": {},
     "output_type": "display_data"
    }
   ],
   "source": [
    "plt.plot(np.arange(0, len(costs)), np.array(costs))\n",
    "plt.xlabel(\"number of iteration / 100\")\n",
    "plt.ylabel(\"training cost\")\n",
    "plt.show()"
   ]
  },
  {
   "cell_type": "code",
   "execution_count": 103,
   "id": "c70feef6-01fe-4d66-a3d1-a59e38154ba7",
   "metadata": {},
   "outputs": [
    {
     "name": "stdout",
     "output_type": "stream",
     "text": [
      "Test set accuracy: 0.8\n"
     ]
    }
   ],
   "source": [
    "#Test Set Accuracy\n",
    "prediction_test = predict(test_x, parameters) \n",
    "print(\"Test set accuracy: \" + str(np.sum(prediction_test == test_y)/test_y.shape[1]))"
   ]
  },
  {
   "cell_type": "code",
   "execution_count": 104,
   "id": "38f46f0b-ee08-41d2-83b3-44fca3ce4cca",
   "metadata": {
    "scrolled": true
   },
   "outputs": [
    {
     "name": "stdout",
     "output_type": "stream",
     "text": [
      "Train set accuracy: 0.9617224880382775\n"
     ]
    }
   ],
   "source": [
    "#Training Set Accruacy\n",
    "prediction_train = predict(train_x, parameters)  \n",
    "print(\"Train set accuracy: \" + str(np.sum(prediction_train == train_y)/train_y.shape[1]))"
   ]
  },
  {
   "cell_type": "code",
   "execution_count": 118,
   "id": "2584b66e-7f68-4616-a907-fde3ab4d2766",
   "metadata": {},
   "outputs": [
    {
     "name": "stdin",
     "output_type": "stream",
     "text": [
      "Enter image path:  car1.jpeg\n"
     ]
    },
    {
     "name": "stdout",
     "output_type": "stream",
     "text": [
      "This is not-cat image\n"
     ]
    }
   ],
   "source": [
    "#Test the network on custom image\n",
    "from PIL import Image\n",
    "image_path = input(\"Enter image path: \")\n",
    "with Image.open(image_path) as img:\n",
    "    scaled_img = img.resize((64, 64))\n",
    "img.close()\n",
    "\n",
    "inp_array = np.array(scaled_img.getdata()).reshape(64*64*3, 1) / 255.0\n",
    "print(\"This is cat image\" if predict(inp_array, parameters) == 1 else \"This is not-cat image\")"
   ]
  }
 ],
 "metadata": {
  "kernelspec": {
   "display_name": "Python 3 (ipykernel)",
   "language": "python",
   "name": "python3"
  },
  "language_info": {
   "codemirror_mode": {
    "name": "ipython",
    "version": 3
   },
   "file_extension": ".py",
   "mimetype": "text/x-python",
   "name": "python",
   "nbconvert_exporter": "python",
   "pygments_lexer": "ipython3",
   "version": "3.10.12"
  }
 },
 "nbformat": 4,
 "nbformat_minor": 5
}
